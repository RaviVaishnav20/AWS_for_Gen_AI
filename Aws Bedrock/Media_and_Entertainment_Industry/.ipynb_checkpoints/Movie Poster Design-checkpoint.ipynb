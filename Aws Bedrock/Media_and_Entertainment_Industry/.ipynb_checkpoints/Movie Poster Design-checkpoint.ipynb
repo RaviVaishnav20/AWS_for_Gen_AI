{
 "cells": [
  {
   "cell_type": "markdown",
   "id": "f9dac885",
   "metadata": {},
   "source": [
    "<img src=\"architecture.png\" alt=\"architecture\" >"
   ]
  },
  {
   "cell_type": "markdown",
   "id": "d4993920",
   "metadata": {},
   "source": [
    "# Generative AI Architecture: Movie Poster Design\n",
    "\n",
    "## Table of Contents\n",
    "1. [Overview](#overview)\n",
    "2. [Architecture Components](#architecture-components)\n",
    "3. [Process Flow](#process-flow)\n",
    "4. [Key Concepts](#key-concepts)\n",
    "\n",
    "## Overview\n",
    "<span style=\"color:blue\">#overview</span>\n",
    "This architecture describes a serverless solution for generating movie posters using AI, leveraging AWS services and the Stability AI foundation model.\n",
    "\n",
    "## Architecture Components\n",
    "<span style=\"color:blue\">#components</span>\n",
    "\n",
    "1. **End User**: Initiates the request with a prompt\n",
    "2. **AWS API Gateway**: Handles the REST API\n",
    "3. **AWS Lambda**: Processes the request and interacts with Bedrock\n",
    "4. **Amazon Bedrock**: Manages the interaction with the foundation model\n",
    "5. **Stability AI Foundation Model**: Generates the image based on the prompt\n",
    "6. **Amazon S3**: Stores the generated image\n",
    "7. **Pre-signed URL**: Provides secure, time-limited access to the generated image\n",
    "\n",
    "## Process Flow\n",
    "<span style=\"color:blue\">#processFlow</span>\n",
    "\n",
    "1. **User Input**:\n",
    "   - End user invokes a REST API with a movie poster design prompt\n",
    "\n",
    "2. **API Gateway Processing**:\n",
    "   - AWS API Gateway receives the request\n",
    "   - Forwards the prompt as an event to a Lambda function\n",
    "\n",
    "3. **Lambda Processing**:\n",
    "   - Lambda function receives the prompt\n",
    "   - Adds predefined inference parameters\n",
    "   - Sends prompt and parameters to AWS Bedrock\n",
    "\n",
    "4. **Bedrock and AI Model Interaction**:\n",
    "   - Bedrock service interacts with Stability AI foundation model\n",
    "   - Model generates a high-quality image based on the prompt\n",
    "\n",
    "5. **Image Storage**:\n",
    "   - Generated image is stored in an S3 bucket\n",
    "\n",
    "6. **Pre-signed URL Generation**:\n",
    "   - Lambda generates a pre-signed URL for the S3 object (image)\n",
    "\n",
    "7. **Response to User**:\n",
    "   - Pre-signed URL is sent back through API Gateway to the user\n",
    "   - User can access and share the generated movie poster using this URL\n",
    "\n",
    "## Key Concepts\n",
    "<span style=\"color:blue\">#keyConcepts</span>\n",
    "\n",
    "### Pre-signed URL\n",
    "- Allows secure, temporary access to S3 objects\n",
    "- Characteristics:\n",
    "  1. Can be shared by the object owner\n",
    "  2. Has a configurable expiration time\n",
    "- Enables easy sharing and review of the generated movie poster\n",
    "\n",
    "### Serverless Architecture\n",
    "- Utilizes AWS Lambda and API Gateway\n",
    "- Scalable and cost-effective solution\n",
    "\n",
    "### AI Model Integration\n",
    "- Leverages Stability AI's foundation model via Amazon Bedrock\n",
    "- Enables high-quality image generation based on text prompts\n",
    "\n",
    "### Security and Access Control\n",
    "- Pre-signed URLs provide a secure way to share generated content\n",
    "- Temporary access helps in maintaining control over the generated assets"
   ]
  },
  {
   "cell_type": "code",
   "execution_count": null,
   "id": "4d096c1a",
   "metadata": {},
   "outputs": [],
   "source": [
    "#config\n",
    "bucket_name = \"movieposterdesign1920\" \n",
    "lambda_function = \"moviePosterDesignFunction\""
   ]
  }
 ],
 "metadata": {
  "kernelspec": {
   "display_name": "Python 3 (ipykernel)",
   "language": "python",
   "name": "python3"
  },
  "language_info": {
   "codemirror_mode": {
    "name": "ipython",
    "version": 3
   },
   "file_extension": ".py",
   "mimetype": "text/x-python",
   "name": "python",
   "nbconvert_exporter": "python",
   "pygments_lexer": "ipython3",
   "version": "3.11.5"
  }
 },
 "nbformat": 4,
 "nbformat_minor": 5
}
