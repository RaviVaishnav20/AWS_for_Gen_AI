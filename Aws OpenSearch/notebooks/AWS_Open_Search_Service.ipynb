{
 "cells": [
  {
   "cell_type": "markdown",
   "id": "44cb6830",
   "metadata": {},
   "source": [
    "<img src=\"images/intro1.png\" alt=\"architecture\" >\n",
    "==========================================\n",
    "<img src=\"images/intro2.png\" alt=\"architecture\" >\n",
    "==========================================\n",
    "<img src=\"images/1.png\" alt=\"architecture\" >\n",
    "==========================================\n",
    "<img src=\"images/2.png\" alt=\"architecture\" >\n",
    "==========================================\n",
    "<img src=\"images/3.png\" alt=\"architecture\" >\n",
    "==========================================\n",
    "<img src=\"images/4.png\" alt=\"architecture\" >\n",
    "==========================================\n",
    "<img src=\"images/5.png\" alt=\"architecture\" >\n",
    "==========================================\n",
    "<img src=\"images/6.png\" alt=\"architecture\" >\n",
    "==========================================\n",
    "<img src=\"images/7.png\" alt=\"architecture\" >\n",
    "==========================================\n",
    "<img src=\"images/8.png\" alt=\"architecture\" >\n",
    "==========================================\n",
    "<img src=\"images/9.png\" alt=\"architecture\" >\n",
    "==========================================\n",
    "<img src=\"images/10.png\" alt=\"architecture\" >\n",
    "==========================================\n",
    "<img src=\"images/11.png\" alt=\"architecture\" >\n",
    "==========================================\n",
    "<img src=\"images/12.png\" alt=\"architecture\" >\n",
    "==========================================\n",
    "<img src=\"images/13.png\" alt=\"architecture\" >\n",
    "==========================================\n",
    "<img src=\"images/14.png\" alt=\"architecture\" >\n",
    "==========================================\n",
    "<img src=\"images/15.png\" alt=\"architecture\" >\n",
    "==========================================\n",
    "<img src=\"images/16.png\" alt=\"architecture\" >\n",
    "==========================================\n",
    "<img src=\"images/17.png\" alt=\"architecture\" >\n",
    "==========================================\n",
    "<img src=\"images/18.png\" alt=\"architecture\" >\n",
    "==========================================\n",
    "<img src=\"images/19.png\" alt=\"architecture\" >\n",
    "==========================================\n",
    "<img src=\"images/20.png\" alt=\"architecture\" >\n",
    "=========================================="
   ]
  },
  {
   "cell_type": "raw",
   "id": "f8018127",
   "metadata": {},
   "source": [
    "### Using command line\n",
    "\n",
    "\n",
    "curl -X PUT -u \"usernameRavi:usernameRavi@123\" \"https://search-demo-opensearch-hdla32lwzinmlgpiwrsudigknm.us-east-1.es.amazonaws.com/movies/_doc/1\" -H \"Content-Type: application/json\" -d \"{\\\"director\\\": \\\"Burton, Tim\\\", \\\"genre\\\": [\\\"Comedy\\\",\\\"Sci-Fi\\\"], \\\"year\\\": 1996, \\\"actor\\\": [\\\"Jack Nicholson\\\",\\\"Pierce Brosnan\\\",\\\"Sarah Jessica Parker\\\"], \\\"title\\\": \\\"Mars Attacks!\\\"}\"\n",
    "\n"
   ]
  },
  {
   "cell_type": "markdown",
   "id": "bfadcc48",
   "metadata": {},
   "source": [
    "<img src=\"images/curl1.png\" alt=\"architecture\" >"
   ]
  },
  {
   "cell_type": "raw",
   "id": "50a729de",
   "metadata": {},
   "source": [
    "\n",
    "curl -X POST -u \"usernameRavi:usernameRavi@123\" \"https://search-demo-opensearch-hdla32lwzinmlgpiwrsudigknm.us-east-1.es.amazonaws.com/_bulk\" --data-binary @bulk_movies.json -H \"Content-Type: application/json\"\n",
    "\n",
    "\n"
   ]
  },
  {
   "cell_type": "markdown",
   "id": "922d77e4",
   "metadata": {},
   "source": [
    "<img src=\"images/curl2.png\" alt=\"architecture\" >"
   ]
  },
  {
   "cell_type": "raw",
   "id": "a83889bb",
   "metadata": {},
   "source": [
    "\n",
    "curl -X GET -u \"usernameRavi:usernameRavi@123\" \"https://search-demo-opensearch-hdla32lwzinmlgpiwrsudigknm.us-east-1.es.amazonaws.com/movies/_search?q=mars&pretty=true\""
   ]
  },
  {
   "cell_type": "markdown",
   "id": "00203308",
   "metadata": {},
   "source": [
    "<img src=\"images/curl3.png\" alt=\"architecture\" >"
   ]
  },
  {
   "cell_type": "code",
   "execution_count": 1,
   "id": "7455b77b",
   "metadata": {},
   "outputs": [],
   "source": [
    "#using OpenSearch Dashboard"
   ]
  },
  {
   "cell_type": "markdown",
   "id": "9aba9fa0",
   "metadata": {},
   "source": [
    "<img src=\"images/dashboard1.png\" alt=\"architecture\" >\n",
    "==========================================\n",
    "<img src=\"images/dashboard2.png\" alt=\"architecture\" >\n",
    "==========================================\n",
    "<img src=\"images/dashboard3.png\" alt=\"architecture\" >\n",
    "==========================================\n",
    "<img src=\"images/dashboard4.png\" alt=\"architecture\" >\n",
    "==========================================\n",
    "<img src=\"images/dashboard5.png\" alt=\"architecture\" >\n",
    "==========================================\n",
    "<img src=\"images/dashboard6.png\" alt=\"architecture\" >\n",
    "==========================================\n",
    "<img src=\"images/dashboard7.png\" alt=\"architecture\" >\n",
    "==========================================\n",
    "<img src=\"images/dashboard8.png\" alt=\"architecture\" >\n",
    "==========================================\n",
    "<img src=\"images/dashboard9.png\" alt=\"architecture\" >\n",
    "==========================================\n",
    "<img src=\"images/dashboard10.png\" alt=\"architecture\" >\n",
    "=========================================="
   ]
  },
  {
   "cell_type": "code",
   "execution_count": 2,
   "id": "afd9be30",
   "metadata": {},
   "outputs": [],
   "source": [
    "#using python"
   ]
  },
  {
   "cell_type": "markdown",
   "id": "1e9d8a8d",
   "metadata": {},
   "source": [
    "<img src=\"images/error_message.png\" alt=\"architecture\" >\n",
    "==========================================\n",
    "<img src=\"images/python_setup_oss1.png\" alt=\"architecture\" >\n",
    "==========================================\n",
    "<img src=\"images/python_setup_oss2.png\" alt=\"architecture\" >\n",
    "==========================================\n",
    "<img src=\"images/python_setup_oss3.png\" alt=\"architecture\" >\n",
    "==========================================\n"
   ]
  },
  {
   "cell_type": "code",
   "execution_count": 3,
   "id": "d138841e",
   "metadata": {},
   "outputs": [],
   "source": [
    "#cost to try this experiment"
   ]
  },
  {
   "cell_type": "markdown",
   "id": "b3d3d3da",
   "metadata": {},
   "source": [
    "<img src=\"images/cost.png\" alt=\"architecture\" >\n",
    "=========================================="
   ]
  },
  {
   "cell_type": "code",
   "execution_count": null,
   "id": "6f820851",
   "metadata": {},
   "outputs": [],
   "source": []
  }
 ],
 "metadata": {
  "kernelspec": {
   "display_name": "Python 3 (ipykernel)",
   "language": "python",
   "name": "python3"
  },
  "language_info": {
   "codemirror_mode": {
    "name": "ipython",
    "version": 3
   },
   "file_extension": ".py",
   "mimetype": "text/x-python",
   "name": "python",
   "nbconvert_exporter": "python",
   "pygments_lexer": "ipython3",
   "version": "3.11.5"
  }
 },
 "nbformat": 4,
 "nbformat_minor": 5
}
